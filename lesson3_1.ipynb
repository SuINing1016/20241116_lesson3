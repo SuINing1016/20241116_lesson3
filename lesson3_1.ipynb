{
 "cells": [
  {
   "cell_type": "code",
   "execution_count": 9,
   "metadata": {},
   "outputs": [
    {
     "name": "stdout",
     "output_type": "stream",
     "text": [
      "身高=150cm\n",
      "體重=42kg\n",
      "BMI=18.67\n",
      "肥胖程度:正常\n",
      "計算結束\n"
     ]
    }
   ],
   "source": [
    "#請輸入身高(cm)\n",
    "#請輸入體重(kg)\n",
    "#計算BMI，衡量肥胖程度\n",
    "try:\n",
    "    身高=eval(input('身高(cm)'))\n",
    "    體重=eval(input('體重(kg)'))\n",
    "except:\n",
    "    print('輸入錯誤')\n",
    "else:\n",
    "    print(f'身高={身高}cm')\n",
    "    print(f'體重={體重}kg')\n",
    "    BMI=(體重/((身高/100)**2))\n",
    "    print(f'BMI={BMI:.2f}')\n",
    "    if BMI>=35:\n",
    "        print('肥胖程度:重度肥胖')\n",
    "    elif BMI>=30:\n",
    "        print('肥胖程度:中度肥胖')\n",
    "    elif BMI>=27:\n",
    "        print('肥胖程度:輕度肥胖')\n",
    "    elif BMI>=24:\n",
    "        print('肥胖程度:過重')\n",
    "    elif BMI>=18.5:\n",
    "        print('肥胖程度:正常')\n",
    "    else:\n",
    "        print('肥胖程度:過輕')\n",
    "print('計算結束')"
   ]
  },
  {
   "cell_type": "code",
   "execution_count": 8,
   "metadata": {},
   "outputs": [],
   "source": [
    "n+=5\n",
    "#要先有n"
   ]
  },
  {
   "cell_type": "code",
   "execution_count": 14,
   "metadata": {},
   "outputs": [
    {
     "data": {
      "text/plain": [
       "55"
      ]
     },
     "execution_count": 14,
     "metadata": {},
     "output_type": "execute_result"
    }
   ],
   "source": [
    "n=0\n",
    "n+=1\n",
    "n+=2\n",
    "n+=3\n",
    "n+=4\n",
    "n+=5\n",
    "n+=6\n",
    "n+=7\n",
    "n+=8\n",
    "n+=9\n",
    "n+=10\n",
    "n"
   ]
  },
  {
   "cell_type": "code",
   "execution_count": 15,
   "metadata": {},
   "outputs": [
    {
     "data": {
      "text/plain": [
       "[0, 1, 2, 3, 4, 5, 6, 7, 8, 9]"
      ]
     },
     "execution_count": 15,
     "metadata": {},
     "output_type": "execute_result"
    }
   ],
   "source": [
    "list(range(10))"
   ]
  },
  {
   "cell_type": "code",
   "execution_count": 16,
   "metadata": {},
   "outputs": [
    {
     "data": {
      "text/plain": [
       "[1, 2, 3, 4, 5, 6, 7, 8, 9]"
      ]
     },
     "execution_count": 16,
     "metadata": {},
     "output_type": "execute_result"
    }
   ],
   "source": [
    "list(range(1,10))"
   ]
  },
  {
   "cell_type": "code",
   "execution_count": 17,
   "metadata": {},
   "outputs": [
    {
     "data": {
      "text/plain": [
       "[1, 3, 5, 7, 9]"
      ]
     },
     "execution_count": 17,
     "metadata": {},
     "output_type": "execute_result"
    }
   ],
   "source": [
    "list(range(1,10,2))"
   ]
  },
  {
   "cell_type": "code",
   "execution_count": 18,
   "metadata": {},
   "outputs": [
    {
     "name": "stdout",
     "output_type": "stream",
     "text": [
      "1\n",
      "2\n",
      "3\n",
      "4\n",
      "5\n",
      "6\n",
      "7\n",
      "8\n",
      "9\n",
      "10\n"
     ]
    }
   ],
   "source": [
    "for i in range(1,11):\n",
    "    print(i)"
   ]
  },
  {
   "cell_type": "code",
   "execution_count": 21,
   "metadata": {},
   "outputs": [
    {
     "data": {
      "text/plain": [
       "5050"
      ]
     },
     "execution_count": 21,
     "metadata": {},
     "output_type": "execute_result"
    }
   ],
   "source": [
    "n=0\n",
    "for i in range(1,101):\n",
    "    n+=i\n",
    "n"
   ]
  },
  {
   "cell_type": "code",
   "execution_count": 22,
   "metadata": {},
   "outputs": [
    {
     "name": "stdout",
     "output_type": "stream",
     "text": [
      "1\n",
      "2\n",
      "3\n",
      "4\n",
      "5\n",
      "6\n",
      "7\n",
      "8\n",
      "9\n",
      "10\n"
     ]
    }
   ],
   "source": [
    "i=1\n",
    "while i<=10:\n",
    "    print(i)\n",
    "    i+=1"
   ]
  },
  {
   "cell_type": "code",
   "execution_count": 2,
   "metadata": {},
   "outputs": [
    {
     "name": "stdout",
     "output_type": "stream",
     "text": [
      "1\n",
      "4\n",
      "7\n",
      "10\n"
     ]
    }
   ],
   "source": [
    "i=1\n",
    "while i<=10:\n",
    "    print(i)\n",
    "    i+= int(input('請輸入數值'))"
   ]
  },
  {
   "cell_type": "code",
   "execution_count": null,
   "metadata": {},
   "outputs": [
    {
     "name": "stdout",
     "output_type": "stream",
     "text": [
      "5\n",
      "5\n",
      "格式錯誤,請重新輸入\n",
      "10\n",
      "10\n",
      "1\n",
      "2\n",
      "3\n",
      "4\n",
      "5\n",
      "6\n",
      "7\n",
      "8\n",
      "9\n",
      "10\n"
     ]
    }
   ],
   "source": [
    "while(True):\n",
    "    try:\n",
    "        value=int(input('請輸入數值'))\n",
    "        print(value)\n",
    "        again=input('您還要繼續嗎(y,n)？')\n",
    "        print(value)\n",
    "        if again=='n':\n",
    "            break\n",
    "    except Exception:\n",
    "        print('格式錯誤,請重新輸入')\n",
    "        continue\n",
    "for index in range(1,value+1):\n",
    "    print(index)"
   ]
  },
  {
   "cell_type": "code",
   "execution_count": 8,
   "metadata": {},
   "outputs": [
    {
     "name": "stdout",
     "output_type": "stream",
     "text": [
      "5\n",
      "5\n",
      "1\n",
      "2\n",
      "3\n",
      "4\n",
      "5\n"
     ]
    }
   ],
   "source": [
    "while(True):\n",
    "    try:\n",
    "        value=int(input('請輸入數值'))\n",
    "        print(value)\n",
    "        again=input('您還要繼續嗎(是,否)？')\n",
    "        print(value)\n",
    "        if again=='否':\n",
    "            break\n",
    "    except Exception:\n",
    "        print('格式錯誤,請重新輸入')\n",
    "        continue\n",
    "for index in range(1,value+1):\n",
    "    print(index)"
   ]
  },
  {
   "cell_type": "code",
   "execution_count": null,
   "metadata": {},
   "outputs": [],
   "source": []
  }
 ],
 "metadata": {
  "kernelspec": {
   "display_name": "base",
   "language": "python",
   "name": "python3"
  },
  "language_info": {
   "codemirror_mode": {
    "name": "ipython",
    "version": 3
   },
   "file_extension": ".py",
   "mimetype": "text/x-python",
   "name": "python",
   "nbconvert_exporter": "python",
   "pygments_lexer": "ipython3",
   "version": "3.12.2"
  }
 },
 "nbformat": 4,
 "nbformat_minor": 2
}
