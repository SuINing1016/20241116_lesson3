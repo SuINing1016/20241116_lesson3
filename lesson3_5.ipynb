{
 "cells": [
  {
   "cell_type": "code",
   "execution_count": 1,
   "metadata": {},
   "outputs": [],
   "source": [
    "#typehine\n",
    "#變數,參數,return\n",
    "i:int=10"
   ]
  },
  {
   "cell_type": "code",
   "execution_count": null,
   "metadata": {},
   "outputs": [],
   "source": [
    "#python是First Class程式語言\n",
    "#Function也有型別\n",
    "# 變數可以儲存Function\n",
    "#Function可以當作參數\n",
    "#Function可以當作傳出值"
   ]
  },
  {
   "cell_type": "code",
   "execution_count": 3,
   "metadata": {},
   "outputs": [
    {
     "data": {
      "text/plain": [
       "19"
      ]
     },
     "execution_count": 3,
     "metadata": {},
     "output_type": "execute_result"
    }
   ],
   "source": [
    "from typing import Callable\n",
    "\n",
    "MyFunction=Callable[[int,int],int]\n",
    "def add(a:int,b:int)->int:\n",
    "    return a+b\n",
    "myfun:MyFunction=add\n",
    "\n",
    "myfun(9,10)"
   ]
  },
  {
   "cell_type": "code",
   "execution_count": 4,
   "metadata": {},
   "outputs": [
    {
     "name": "stdout",
     "output_type": "stream",
     "text": [
      "function開始\n",
      "可以由使用者自己定義\n",
      "function結束\n"
     ]
    }
   ],
   "source": [
    "def wrapper_function():\n",
    "    print('function開始')\n",
    "    print('可以由使用者自己定義')\n",
    "    print('function結束')\n",
    "wrapper_function()"
   ]
  },
  {
   "cell_type": "code",
   "execution_count": null,
   "metadata": {},
   "outputs": [
    {
     "name": "stdout",
     "output_type": "stream",
     "text": [
      "function開始\n",
      "您好:Suri\n",
      "function結束\n"
     ]
    }
   ],
   "source": [
    "#decorator的功能\n",
    "def decorator_function(orignal_function):\n",
    "    def wrapper_function():\n",
    "        print('function開始')\n",
    "        orignal_function()\n",
    "        print('function結束')\n",
    "    return wrapper_function\n",
    "def say_hello():\n",
    "    print('您好:Suri')\n",
    "newFunction=decorator_function(say_hello)\n",
    "newFunction()"
   ]
  },
  {
   "cell_type": "code",
   "execution_count": 13,
   "metadata": {},
   "outputs": [
    {
     "name": "stdout",
     "output_type": "stream",
     "text": [
      "function開始\n",
      "您好：Lisa\n",
      "您好：Suri\n",
      "function結束\n"
     ]
    }
   ],
   "source": [
    "@decorator_function\n",
    "def abc():\n",
    "    print('您好：Lisa')\n",
    "    print('您好：Suri')\n",
    "abc()"
   ]
  }
 ],
 "metadata": {
  "kernelspec": {
   "display_name": "base",
   "language": "python",
   "name": "python3"
  },
  "language_info": {
   "codemirror_mode": {
    "name": "ipython",
    "version": 3
   },
   "file_extension": ".py",
   "mimetype": "text/x-python",
   "name": "python",
   "nbconvert_exporter": "python",
   "pygments_lexer": "ipython3",
   "version": "3.12.2"
  }
 },
 "nbformat": 4,
 "nbformat_minor": 2
}
