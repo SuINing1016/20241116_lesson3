{
 "cells": [
  {
   "cell_type": "code",
   "execution_count": 4,
   "metadata": {},
   "outputs": [
    {
     "name": "stdout",
     "output_type": "stream",
     "text": [
      "9\n",
      "===========猜數字遊戲===========\n",
      "\n",
      "賓果！猜對了，答案是:9\n",
      "您猜了1次\n",
      "33\n",
      "===========猜數字遊戲===========\n",
      "\n",
      "賓果！猜對了，答案是:33\n",
      "您猜了1次\n",
      "應用程式結束\n"
     ]
    }
   ],
   "source": [
    "import random\n",
    "while(True):\n",
    "    min=1\n",
    "    max=100\n",
    "    target=random.randint(min,max)\n",
    "    count=0\n",
    "    print(target)\n",
    "    print('===========猜數字遊戲===========\\n')\n",
    "    while(True):\n",
    "        keyin=int(input(f'猜數字範圍{min}~{max}:'))\n",
    "        count+=1\n",
    "        if keyin<=max and keyin>=min:\n",
    "            if target==keyin:\n",
    "                print(f'賓果！猜對了，答案是:{target}')\n",
    "                print(f'您猜了{count}次')\n",
    "                break\n",
    "            elif keyin>target:\n",
    "                print('再小一點')\n",
    "                max=keyin-1\n",
    "            elif keyin<target:\n",
    "                print('再大一點')\n",
    "                min=keyin+1\n",
    "            print(f'您已經猜了{count}次')\n",
    "        else:\n",
    "            print('輸入範圍有誤')\n",
    "    answering=input('請問還要繼續嗎？（y,n）')\n",
    "    if answering=='n':\n",
    "        break\n",
    "print('應用程式結束')"
   ]
  },
  {
   "cell_type": "code",
   "execution_count": null,
   "metadata": {},
   "outputs": [
    {
     "name": "stdout",
     "output_type": "stream",
     "text": [
      "39\n",
      "===========猜數字遊戲===========\n",
      "\n",
      "再小一點\n",
      "您已經猜了1次\n",
      "賓果！猜對了，答案是:39\n",
      "您猜了2次\n",
      "應用程式結束\n"
     ]
    }
   ],
   "source": [
    "import random\n",
    "def play_game():\n",
    "    min=1\n",
    "    max=100\n",
    "    target=random.randint(min,max)\n",
    "    count=0\n",
    "    print(target)\n",
    "    print('===========猜數字遊戲===========\\n')\n",
    "    while(True):\n",
    "        keyin=int(input(f'猜數字範圍{min}~{max}:'))\n",
    "        count+=1\n",
    "        if keyin<=max and keyin>=min:\n",
    "            if target==keyin:\n",
    "                print(f'賓果！猜對了，答案是:{target}')\n",
    "                print(f'您猜了{count}次')\n",
    "                break\n",
    "            elif keyin>target:\n",
    "                print('再小一點')\n",
    "                max=keyin-1\n",
    "            elif keyin<target:\n",
    "                print('再大一點')\n",
    "                min=keyin+1\n",
    "            print(f'您已經猜了{count}次')\n",
    "        else:\n",
    "            print('輸入範圍有誤')\n",
    "while(True):\n",
    "    play_game()\n",
    "    answering=input('請問還要繼續嗎？（y,n）')\n",
    "    if answering=='n':\n",
    "        break\n",
    "print('應用程式結束')"
   ]
  },
  {
   "cell_type": "code",
   "execution_count": 10,
   "metadata": {},
   "outputs": [
    {
     "name": "stdout",
     "output_type": "stream",
     "text": [
      "51\n",
      "===========猜數字遊戲===========\n",
      "\n",
      "賓果！猜對了，答案是:51\n",
      "您猜了1次\n",
      "應用程式結束\n"
     ]
    }
   ],
   "source": [
    "import random\n",
    "def play_game()->None:\n",
    "    min=1\n",
    "    max=100\n",
    "    target=random.randint(min,max)\n",
    "    count=0\n",
    "    print(target)\n",
    "    print('===========猜數字遊戲===========\\n')\n",
    "    while(True):\n",
    "        keyin=int(input(f'猜數字範圍{min}~{max}:'))\n",
    "        count+=1\n",
    "        if keyin<=max and keyin>=min:\n",
    "            if target==keyin:\n",
    "                print(f'賓果！猜對了，答案是:{target}')\n",
    "                print(f'您猜了{count}次')\n",
    "                break\n",
    "            elif keyin>target:\n",
    "                print('再小一點')\n",
    "                max=keyin-1\n",
    "            elif keyin<target:\n",
    "                print('再大一點')\n",
    "                min=keyin+1\n",
    "            print(f'您已經猜了{count}次')\n",
    "        else:\n",
    "            print('輸入範圍有誤')\n",
    "while(True):\n",
    "    play_game()\n",
    "    answering=input('請問還要繼續嗎？（y,n）')\n",
    "    if answering=='n':\n",
    "        break\n",
    "print('應用程式結束')"
   ]
  },
  {
   "cell_type": "code",
   "execution_count": 8,
   "metadata": {},
   "outputs": [
    {
     "data": {
      "text/plain": [
       "5.0"
      ]
     },
     "execution_count": 8,
     "metadata": {},
     "output_type": "execute_result"
    }
   ],
   "source": [
    "import math\n",
    "def theorem(side:float,another_side:float)->float:\n",
    "    return math.sqrt(side**2+another_side**2)\n",
    "\n",
    "theorem(3,4)"
   ]
  }
 ],
 "metadata": {
  "kernelspec": {
   "display_name": "base",
   "language": "python",
   "name": "python3"
  },
  "language_info": {
   "codemirror_mode": {
    "name": "ipython",
    "version": 3
   },
   "file_extension": ".py",
   "mimetype": "text/x-python",
   "name": "python",
   "nbconvert_exporter": "python",
   "pygments_lexer": "ipython3",
   "version": "3.12.2"
  }
 },
 "nbformat": 4,
 "nbformat_minor": 2
}
